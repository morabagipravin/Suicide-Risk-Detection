{
 "cells": [
  {
   "cell_type": "code",
   "execution_count": 2,
   "metadata": {},
   "outputs": [],
   "source": [
    "import preprocess_text\n",
    "# import tensorflow as tf\n",
    "# from tensorflow.keras.preprocessing.sequence import pad_sequences\n",
    "# from tensorflow.keras.preprocessing.text import Tokenizer\n",
    "# from tensorflow.keras.models import load_model\n",
    "import pickle"
   ]
  },
  {
   "cell_type": "code",
   "execution_count": 3,
   "metadata": {},
   "outputs": [],
   "source": [
    "tf_idf = pickle.load(open('tfidf_tokenizer.pkl','rb'))\n",
    "rf_model = pickle.load(open('random_forest.pkl','rb'))"
   ]
  },
  {
   "cell_type": "code",
   "execution_count": null,
   "metadata": {},
   "outputs": [],
   "source": [
    "# tokenizer = pickle.load(open('../Pretrained_Models/tf_tokenizer.pkl','rb'))\n",
    "# model = load_model('../Pretrained_Models/lstm.h5',compile=False)"
   ]
  },
  {
   "cell_type": "code",
   "execution_count": 4,
   "metadata": {},
   "outputs": [],
   "source": [
    "def predict_ml(text):\n",
    "    new_text = preprocess_text.clean_text(text)\n",
    "    vec = tf_idf.transform([new_text])\n",
    "    res = rf_model.predict(vec)\n",
    "    return res "
   ]
  },
  {
   "cell_type": "code",
   "execution_count": null,
   "metadata": {},
   "outputs": [],
   "source": [
    "# def predict_dl(text):\n",
    "#     new_text = preprocess_text.clean_text(text)\n",
    "#     sequence = tokenizer.texts_to_sequences([new_text])\n",
    "#     padded_sequence = pad_sequences(sequence,padding='post',)\n",
    "#     res = model.predict(padded_sequence)\n",
    "#     return res[0]"
   ]
  },
  {
   "cell_type": "code",
   "execution_count": 2,
   "metadata": {
    "scrolled": false
   },
   "outputs": [
    {
     "name": "stdout",
     "output_type": "stream",
     "text": [
      "\n",
      " \n",
      "\n"
     ]
    },
    {
     "ename": "NameError",
     "evalue": "name 'predict_ml' is not defined",
     "output_type": "error",
     "traceback": [
      "\u001b[1;31m---------------------------------------------------------------------------\u001b[0m",
      "\u001b[1;31mNameError\u001b[0m                                 Traceback (most recent call last)",
      "Cell \u001b[1;32mIn[2], line 13\u001b[0m\n\u001b[0;32m      9\u001b[0m \u001b[38;5;28mprint\u001b[39m(\u001b[38;5;124m\"\u001b[39m\u001b[38;5;130;01m\\n\u001b[39;00m\u001b[38;5;124m \u001b[39m\u001b[38;5;130;01m\\n\u001b[39;00m\u001b[38;5;124m\"\u001b[39m)\n\u001b[0;32m     12\u001b[0m \u001b[38;5;28;01mfor\u001b[39;00m t \u001b[38;5;129;01min\u001b[39;00m text:\n\u001b[1;32m---> 13\u001b[0m     res\u001b[38;5;241m=\u001b[39m \u001b[43mpredict_ml\u001b[49m(t)\n\u001b[0;32m     14\u001b[0m     \u001b[38;5;28mprint\u001b[39m(\u001b[38;5;124m\"\u001b[39m\u001b[38;5;132;01m{}\u001b[39;00m\u001b[38;5;124m :\u001b[39m\u001b[38;5;132;01m{}\u001b[39;00m\u001b[38;5;124m\"\u001b[39m\u001b[38;5;241m.\u001b[39mformat(t, res[\u001b[38;5;241m0\u001b[39m]))\n",
      "\u001b[1;31mNameError\u001b[0m: name 'predict_ml' is not defined"
     ]
    }
   ],
   "source": [
    "text = ['i am watching a suicide movie', 'i dont want to live any more',\n",
    "        'she commited suicide', 'Do you like to go out for a movie','i am happy','i am happy and contended']\n",
    "\n",
    "# for t in text:\n",
    "#     res = predict_dl(t)\n",
    "#     res = res > 0.5\n",
    "#     print(\"{} :{}\".format(t, res[0]))\n",
    "\n",
    "print(\"\\n \\n\")\n",
    "\n",
    "\n",
    "for t in text:\n",
    "    res= predict_ml(t)\n",
    "    print(\"{} :{}\".format(t, res[0]))"
   ]
  },
  {
   "cell_type": "code",
   "execution_count": null,
   "metadata": {},
   "outputs": [],
   "source": []
  }
 ],
 "metadata": {
  "kernelspec": {
   "display_name": "Python 3",
   "language": "python",
   "name": "python3"
  },
  "language_info": {
   "codemirror_mode": {
    "name": "ipython",
    "version": 3
   },
   "file_extension": ".py",
   "mimetype": "text/x-python",
   "name": "python",
   "nbconvert_exporter": "python",
   "pygments_lexer": "ipython3",
   "version": "3.12.0"
  }
 },
 "nbformat": 4,
 "nbformat_minor": 2
}
